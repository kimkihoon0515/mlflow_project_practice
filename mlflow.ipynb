{
 "cells": [
  {
   "cell_type": "markdown",
   "metadata": {},
   "source": [
    "# Mlflow가 없다면??\n",
    "<img width=\"1382\" alt=\"image\" src=\"https://user-images.githubusercontent.com/63439911/200203199-e41121e7-bfc4-4dc4-bf63-42156aa6d0da.png\">\n",
    "\n"
   ]
  },
  {
   "cell_type": "code",
   "execution_count": 30,
   "metadata": {},
   "outputs": [],
   "source": [
    "import torch.nn as nn\n",
    "import torch\n",
    "from torchvision import datasets\n",
    "from torchvision import transforms\n",
    "from torch.utils.data import DataLoader\n",
    "import numpy as np\n",
    "import torch.optim as optim\n",
    "import mlflow \n",
    "import warnings\n",
    "import random"
   ]
  },
  {
   "cell_type": "markdown",
   "metadata": {},
   "source": [
    "# Seed 고정\n"
   ]
  },
  {
   "cell_type": "code",
   "execution_count": 31,
   "metadata": {},
   "outputs": [],
   "source": [
    "def seed_everything(seed):\n",
    "    torch.manual_seed(seed) #torch를 거치는 모든 난수들의 생성순서를 고정한다\n",
    "    torch.cuda.manual_seed(seed) #cuda를 사용하는 메소드들의 난수시드는 따로 고정해줘야한다 \n",
    "    torch.cuda.manual_seed_all(seed)  # if use multi-GPU\n",
    "    torch.backends.cudnn.deterministic = True #딥러닝에 특화된 CuDNN의 난수시드도 고정 \n",
    "    torch.backends.cudnn.benchmark = False\n",
    "    np.random.seed(seed) #numpy를 사용할 경우 고정\n",
    "    random.seed(seed) #파이썬 자체 모듈 random 모듈의 시드 고정\n",
    "\n",
    "seed = 42\n",
    "\n",
    "seed_everything(seed)"
   ]
  },
  {
   "cell_type": "markdown",
   "metadata": {},
   "source": [
    "# Model 정의"
   ]
  },
  {
   "cell_type": "code",
   "execution_count": 32,
   "metadata": {},
   "outputs": [],
   "source": [
    "class Net(nn.Module):\n",
    "    \n",
    "    def __init__(self):\n",
    "        super(Net, self).__init__()\n",
    "        self.fc1 = nn.Linear(784,100)\n",
    "        self.relu = nn.ReLU()\n",
    "        self.fc2 = nn.Linear(100,100)\n",
    "        self.fc3 = nn.Linear(100,10)\n",
    "\n",
    "    def forward(self, x):\n",
    "        x1 = self.fc1(x)\n",
    "        x2 = self.relu(x1)\n",
    "        x3 = self.fc2(x2)\n",
    "        x4 = self.relu(x3)\n",
    "        x5 = self.fc3(x4)\n",
    "\n",
    "        return x5"
   ]
  },
  {
   "cell_type": "markdown",
   "metadata": {},
   "source": [
    "# Dataset 정의  \n",
    "## MNIST Dataset을 사용하여 학습,검증을 합니다."
   ]
  },
  {
   "cell_type": "code",
   "execution_count": 33,
   "metadata": {},
   "outputs": [],
   "source": [
    "download_root = 'MNIST_data/'\n",
    "\n",
    "train_dataset = datasets.MNIST(root=download_root,\n",
    "                         train=True,\n",
    "                         transform = transforms.ToTensor(),\n",
    "                         download=True)\n",
    "                         \n",
    "test_dataset = datasets.MNIST(root=download_root,\n",
    "                         train=False,\n",
    "                         transform=transforms.ToTensor(),\n",
    "                         download=True)    "
   ]
  },
  {
   "cell_type": "markdown",
   "metadata": {},
   "source": [
    "# Batch_size, Train, Test Dataloader 정의"
   ]
  },
  {
   "cell_type": "code",
   "execution_count": 34,
   "metadata": {},
   "outputs": [],
   "source": [
    "batch_size = 200\n",
    "train_loader = DataLoader(train_dataset, batch_size=batch_size, shuffle=True) # batch_size : 책을 몇 장씩 넘길 지\n",
    "test_loader = DataLoader(test_dataset, batch_size=batch_size, shuffle=True)"
   ]
  },
  {
   "cell_type": "markdown",
   "metadata": {},
   "source": [
    "# 학습률, Optimizer 정의"
   ]
  },
  {
   "cell_type": "markdown",
   "metadata": {},
   "source": [
    "![image](https://user-images.githubusercontent.com/63439911/200167296-d804d2f3-1b16-40df-ac1b-191afb16d1e0.png)"
   ]
  },
  {
   "cell_type": "code",
   "execution_count": 35,
   "metadata": {},
   "outputs": [],
   "source": [
    "model = Net()\n",
    "model.zero_grad()\n",
    "loss_function = nn.CrossEntropyLoss() # 실제 정답과 예측값의 차이를 수치화해주는 함수.\n",
    "learning_rate = 0.001 # AdamW:0.001, SGD:0.1, Adam:0.001\n",
    "optimizer = optim.Adam(model.parameters(), lr=learning_rate) # loss_function을 최소화 하는 모델의 파라미터를 찾는 방법."
   ]
  },
  {
   "cell_type": "markdown",
   "metadata": {},
   "source": [
    "# MLflow를 활용하여 학습진행\n",
    "\n",
    "![image](https://user-images.githubusercontent.com/63439911/200161454-3710fd01-1989-4ba0-bbbd-78eef62df048.png)"
   ]
  },
  {
   "cell_type": "code",
   "execution_count": 36,
   "metadata": {},
   "outputs": [
    {
     "name": "stdout",
     "output_type": "stream",
     "text": [
      "Save Model(Epoch: 1, Accuracy: 92.75)\n",
      "epoch : 1 | loss : 0.496312\n",
      "Accuracy : 92.75\n",
      "------\n",
      "Save Model(Epoch: 2, Accuracy: 94.64)\n",
      "epoch : 2 | loss : 0.210700\n",
      "Accuracy : 94.64\n",
      "------\n",
      "Save Model(Epoch: 3, Accuracy: 95.57)\n",
      "epoch : 3 | loss : 0.154832\n",
      "Accuracy : 95.57\n",
      "------\n",
      "Save Model(Epoch: 4, Accuracy: 96.39)\n",
      "epoch : 4 | loss : 0.118749\n",
      "Accuracy : 96.39\n",
      "------\n",
      "Save Model(Epoch: 5, Accuracy: 96.61)\n",
      "epoch : 5 | loss : 0.094596\n",
      "Accuracy : 96.61\n",
      "------\n",
      "Save Model(Epoch: 6, Accuracy: 96.99)\n",
      "epoch : 6 | loss : 0.077565\n",
      "Accuracy : 96.99\n",
      "------\n",
      "Save Model(Epoch: 7, Accuracy: 97.25)\n",
      "epoch : 7 | loss : 0.065715\n",
      "Accuracy : 97.25\n",
      "------\n",
      "Save Model(Epoch: 8, Accuracy: 97.43)\n",
      "epoch : 8 | loss : 0.056217\n",
      "Accuracy : 97.43\n",
      "------\n",
      "Save Model(Epoch: 9, Accuracy: 97.44)\n",
      "epoch : 9 | loss : 0.046127\n",
      "Accuracy : 97.44\n",
      "------\n",
      "epoch : 10 | loss : 0.039798\n",
      "Accuracy : 97.43\n",
      "------\n"
     ]
    }
   ],
   "source": [
    "warnings.filterwarnings(action='ignore')\n",
    "experiment_name = 'chaos_AIP' # 실험명, 실험관리를 용이하게 해줍니다. \n",
    "\n",
    "\n",
    "if not mlflow.get_experiment_by_name(experiment_name): \n",
    "  mlflow.create_experiment(name=experiment_name)\n",
    "experiment = mlflow.get_experiment_by_name(experiment_name)\n",
    "\n",
    "mlflow.set_tracking_uri('http://127.0.0.1:5000') # 로컬 서버에 실행을 기록하기 위해 함수 호출\n",
    "\n",
    "train_loss_list = []\n",
    "train_acc_list = []\n",
    "\n",
    "val_loss_list = []\n",
    "val_acc_list = []\n",
    "\n",
    "total_batch = len(train_loader)\n",
    "epochs = 10\n",
    "\n",
    "\n",
    "best_accuracy = 0\n",
    "with mlflow.start_run(experiment_id=experiment.experiment_id,run_name=\"boom\"):\n",
    "  for epoch in range(epochs):\n",
    "      cost=0\n",
    "      model.train()\n",
    "      train_accuracy = 0\n",
    "      train_loss = 0\n",
    "      for images, labels in train_loader:\n",
    "          images = images.reshape(batch_size,784)\n",
    "          \n",
    "          optimizer.zero_grad() # 변화도 매개변수 0\n",
    "          \n",
    "          #forward\n",
    "          pred = model(images)\n",
    "          loss = loss_function(pred,labels)\n",
    "          prediction = torch.argmax(pred,1)\n",
    "          correct = (prediction == labels)\n",
    "          train_accuracy += correct.sum().item() / 60000\n",
    "          train_loss += loss.item() / 600\n",
    "          \n",
    "          #backward\n",
    "          loss.backward()\n",
    "          \n",
    "          #Update\n",
    "          optimizer.step()\n",
    "          \n",
    "          cost += loss\n",
    "      \n",
    "      with torch.no_grad(): #미분하지 않겠다는 것\n",
    "          total = 0\n",
    "          correct=0\n",
    "          for images, labels in test_loader:\n",
    "              images = images.reshape(batch_size,784)\n",
    "\n",
    "              outputs = model(images)\n",
    "              _,predict = torch.max(outputs.data, 1)\n",
    "\n",
    "              total += labels.size(0)\n",
    "              correct += (predict==labels).sum() # 예측한 값과 일치한 값의 합\n",
    "\n",
    "      avg_cost = cost / total_batch\n",
    "      accuracy = 100*correct/total\n",
    "      \n",
    "      val_loss_list.append(avg_cost.detach().numpy())\n",
    "      val_acc_list.append(accuracy)\n",
    "\n",
    "      if accuracy > best_accuracy:\n",
    "        torch.save(model.state_dict(),'model.pt')\n",
    "        mlflow.pytorch.log_model(model,'model') # pytorch.log_model 을 통해 모델을 기록합니다.\n",
    "        best_accuracy = accuracy\n",
    "        print(f\"Save Model(Epoch: {epoch+1}, Accuracy: {best_accuracy:.5})\")\n",
    "      \n",
    "      print(\"epoch : {} | loss : {:.6f}\" .format(epoch+1, avg_cost))\n",
    "      print(\"Accuracy : {:.2f}\".format(100*correct/total))\n",
    "      mlflow.log_param('learning-rate',learning_rate) # mlflow.log_param 을 사용하여 MLflow에 파라미터들을 기록할 수 있습니다.\n",
    "      mlflow.log_param('epoch',epochs)\n",
    "      mlflow.log_param('batch_size',batch_size)\n",
    "      mlflow.log_param('seed',seed)\n",
    "      mlflow.log_param('optimizer',optimizer)\n",
    "      mlflow.log_param('loss_function',loss_function)\n",
    "      mlflow.log_metric('train_accuracy',train_accuracy) # mlflow.log_metric을 사용하여 MLflow에 성능평가를 위한 metric을 기록할 수 있습니다.\n",
    "      mlflow.log_metric('train_loss',train_loss)\n",
    "      mlflow.log_metric('valid_accuracy',accuracy)\n",
    "      mlflow.log_metric('valid_loss',avg_cost)\n",
    "      print(\"------\")\n",
    "mlflow.end_run()"
   ]
  },
  {
   "cell_type": "code",
   "execution_count": 37,
   "metadata": {},
   "outputs": [],
   "source": [
    "import os\n",
    "import json\n",
    "import bentoml\n",
    "import numpy as np\n",
    "import pandas as pd\n",
    "from torch import cuda"
   ]
  },
  {
   "cell_type": "code",
   "execution_count": 38,
   "metadata": {},
   "outputs": [
    {
     "data": {
      "text/plain": [
       "Model(tag=\"mnist_clf:dgs5mss6kw5aqrzl\", path=\"/home/khkim/bentoml/models/mnist_clf/dgs5mss6kw5aqrzl/\")"
      ]
     },
     "execution_count": 38,
     "metadata": {},
     "output_type": "execute_result"
    }
   ],
   "source": [
    "MLFLOW_PATH = './model_mlflow'\n",
    "\n",
    "if not os.path.isdir(MLFLOW_PATH):\n",
    "  mlflow.pytorch.save_model(model, MLFLOW_PATH) # mlflow 모델 로컬 디렉토리에 저장\n",
    "\n",
    "bentoml.mlflow.import_model(\"mnist_clf\", model_uri='./model_mlflow') # mlflow로 저장한 모델을 bentoml format에 맞추어 가져옴"
   ]
  },
  {
   "cell_type": "code",
   "execution_count": 39,
   "metadata": {},
   "outputs": [
    {
     "name": "stdout",
     "output_type": "stream",
     "text": [
      "\u001b[1m \u001b[0m\u001b[1mTag                       \u001b[0m\u001b[1m \u001b[0m\u001b[1m \u001b[0m\u001b[1mModule        \u001b[0m\u001b[1m \u001b[0m\u001b[1m \u001b[0m\u001b[1mSize      \u001b[0m\u001b[1m \u001b[0m\u001b[1m \u001b[0m\u001b[1mCreation Time      \u001b[0m\u001b[1m \u001b[0m\n",
      " mnist_clf:dgs5mss6kw5aqrzl  bentoml.mlflow  355.39 KiB  2022-11-07 13:31:51 \n",
      " mnist_clf:77awb7c6fkuoayzv  bentoml.mlflow  355.39 KiB  2022-11-07 08:30:29 \n",
      " mnist_clf:uh5rzxs372nxrayw  bentoml.mlflow  355.39 KiB  2022-11-04 14:07:51 \n",
      " mnist_clf:6atdu2s322nxrayw  bentoml.mlflow  355.39 KiB  2022-11-04 09:23:42 \n",
      " mnist_clf:rlzepcc3dw3donlu  bentoml.mlflow  355.39 KiB  2022-11-03 11:16:36 \n",
      " mnist_clf:evxuymc3as3donlu  bentoml.mlflow  355.39 KiB  2022-11-03 08:14:48 \n",
      " mnist_clf:mna6lfs2q2mr67oi  bentoml.mlflow  355.39 KiB  2022-11-02 17:14:35 \n",
      " mnist_clf:jisf22c2qkh6f2kn  bentoml.mlflow  355.39 KiB  2022-11-02 16:45:15 \n",
      " mnist_clf:bohyihc2qch6f2kn  bentoml.mlflow  355.39 KiB  2022-11-02 16:29:11 \n",
      " mnist_clf:y7m546s2noh6f2kn  bentoml.mlflow  355.39 KiB  2022-11-02 14:04:07 \n",
      " mnist_clf:pycdv6sy3wh6f2kn  bentoml.mlflow  355.39 KiB  2022-10-31 14:33:04 \n",
      " mnist_clf:klquv2syykh6f2kn  bentoml.mlflow  355.39 KiB  2022-10-31 11:18:35 \n",
      " mnist_clf:xkvy4zsyygh6f2kn  bentoml.mlflow  355.39 KiB  2022-10-31 11:14:20 \n",
      " mnist_clf:v65qkwsyych6f2kn  bentoml.mlflow  355.39 KiB  2022-10-31 11:06:52 \n"
     ]
    }
   ],
   "source": [
    "!bentoml models list mnist_clf # 현재 등록되어 있는 모델 리스트 출력"
   ]
  },
  {
   "cell_type": "markdown",
   "metadata": {},
   "source": [
    "# Inference"
   ]
  },
  {
   "cell_type": "code",
   "execution_count": 40,
   "metadata": {},
   "outputs": [
    {
     "data": {
      "text/plain": [
       "3"
      ]
     },
     "execution_count": 40,
     "metadata": {},
     "output_type": "execute_result"
    }
   ],
   "source": [
    "# mnist 테스트 데이터 가져오기\n",
    "with open('./test_input.json', 'r') as f:\n",
    "  test_input_arr = np.array(json.load(f), dtype=np.float32)\n",
    "\n",
    "len(test_input_arr) # test 데이터 개수"
   ]
  },
  {
   "cell_type": "code",
   "execution_count": 41,
   "metadata": {},
   "outputs": [
    {
     "data": {
      "image/png": "[encoded data removed]",
      "text/plain": [
       "<Figure size 1000x1000 with 3 Axes>"
      ]
     },
     "metadata": {},
     "output_type": "display_data"
    }
   ],
   "source": [
    "import matplotlib.pyplot as plt\n",
    "\n",
    "fig,axes = plt.subplots(len(test_input_arr),1,figsize=(10,10))\n",
    "for i in range(len(test_input_arr)):\n",
    "    img = test_input_arr[i]\n",
    "    img = img.reshape(28,28,1)\n",
    "    axes[i].imshow(img,'gray')\n",
    "\n",
    "plt.show()\n",
    "    "
   ]
  },
  {
   "cell_type": "code",
   "execution_count": null,
   "metadata": {},
   "outputs": [
    {
     "name": "stderr",
     "output_type": "stream",
     "text": [
      "'Runner.init_local' is for debugging and testing only.\n",
      "2022/11/07 08:31:30 WARNING mlflow.pyfunc: The version of Python that the model was saved in, `Python 3.10.8`, differs from the version of Python that is currently running, `Python 3.9.12`, and may be incompatible\n"
     ]
    },
    {
     "name": "stdout",
     "output_type": "stream",
     "text": [
      "7\n",
      "2\n",
      "1\n"
     ]
    }
   ],
   "source": [
    "# API 테스트\n",
    "runner = bentoml.mlflow.get(\"mnist_clf:latest\").to_runner()\n",
    "runner.init_local()\n",
    "result = runner.predict.run(test_input_arr)\n",
    "\n",
    "for i in result:\n",
    "    print(np.argmax(i))"
   ]
  },
  {
   "cell_type": "code",
   "execution_count": null,
   "metadata": {},
   "outputs": [
    {
     "name": "stdout",
     "output_type": "stream",
     "text": [
      "2022-10-31T11:18:42+0900 [INFO] [cli] Prometheus metrics for HTTP BentoServer from \"service:svc\" can be accessed at http://localhost:3000/metrics.\n",
      "2022-10-31T11:18:43+0900 [INFO] [cli] Starting development HTTP BentoServer from \"service:svc\" running on http://0.0.0.0:3000 (Press CTRL+C to quit)\n",
      "2022-10-31 11:18:44 circus[2119121] [INFO] Loading the plugin...\n",
      "2022-10-31 11:18:44 circus[2119121] [INFO] Endpoint: 'tcp://127.0.0.1:36727'\n",
      "2022-10-31 11:18:44 circus[2119121] [INFO] Pub/sub: 'tcp://127.0.0.1:39683'\n",
      "2022-10-31T11:18:44+0900 [INFO] [observer] Watching directories: ['/home/khkim/aip/AIP', '/home/khkim/bentoml/models']\n",
      "^C\n"
     ]
    }
   ],
   "source": [
    "!bentoml serve service:svc --reload"
   ]
  },
  {
   "cell_type": "code",
   "execution_count": null,
   "metadata": {},
   "outputs": [],
   "source": []
  }
 ],
 "metadata": {
  "kernelspec": {
   "display_name": "Python 3.8.10 64-bit",
   "language": "python",
   "name": "python3"
  },
  "language_info": {
   "codemirror_mode": {
    "name": "ipython",
    "version": 3
   },
   "file_extension": ".py",
   "mimetype": "text/x-python",
   "name": "python",
   "nbconvert_exporter": "python",
   "pygments_lexer": "ipython3",
   "version": "3.8.10"
  },
  "orig_nbformat": 4,
  "vscode": {
   "interpreter": {
    "hash": "916dbcbb3f70747c44a77c7bcd40155683ae19c65e1c03b4aa3499c5328201f1"
   }
  }
 },
 "nbformat": 4,
 "nbformat_minor": 2
}

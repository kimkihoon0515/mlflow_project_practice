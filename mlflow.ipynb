{
 "cells": [
  {
   "cell_type": "markdown",
   "metadata": {},
   "source": [
    "# Mlflow가 없다면??\n",
    "<img width=\"1382\" alt=\"image\" src=\"https://user-images.githubusercontent.com/63439911/200203199-e41121e7-bfc4-4dc4-bf63-42156aa6d0da.png\">\n",
    "\n"
   ]
  },
  {
   "cell_type": "code",
   "execution_count": 1,
   "metadata": {},
   "outputs": [],
   "source": [
    "import torch.nn as nn\n",
    "import torch\n",
    "from torchvision import datasets\n",
    "from torchvision import transforms\n",
    "from torch.utils.data import DataLoader\n",
    "import numpy as np\n",
    "import torch.optim as optim\n",
    "import mlflow \n",
    "import warnings\n",
    "import random\n",
    "import matplotlib.pyplot as plt\n",
    "import copy"
   ]
  },
  {
   "cell_type": "markdown",
   "metadata": {},
   "source": [
    "# Seed 고정\n"
   ]
  },
  {
   "cell_type": "code",
   "execution_count": 2,
   "metadata": {},
   "outputs": [],
   "source": [
    "def seed_everything(seed):\n",
    "    torch.manual_seed(seed) # torch를 거치는 모든 난수들의 생성순서를 고정한다\n",
    "    torch.cuda.manual_seed(seed) # cuda를 사용하는 메소드들의 난수시드는 따로 고정해줘야한다 \n",
    "    torch.cuda.manual_seed_all(seed)  # if use multi-GPU\n",
    "    torch.backends.cudnn.deterministic = True # 딥러닝에 특화된 CuDNN의 난수시드도 고정 \n",
    "    torch.backends.cudnn.benchmark = False\n",
    "    np.random.seed(seed) # numpy를 사용할 경우 고정\n",
    "    random.seed(seed) # 파이썬 자체 모듈 random 모듈의 시드 고정\n",
    "\n",
    "seed = 42\n",
    "\n",
    "seed_everything(seed)"
   ]
  },
  {
   "cell_type": "markdown",
   "metadata": {},
   "source": [
    "# Model 정의"
   ]
  },
  {
   "cell_type": "code",
   "execution_count": 3,
   "metadata": {},
   "outputs": [],
   "source": [
    "class Net(nn.Module):\n",
    "    \n",
    "    def __init__(self):\n",
    "        super(Net, self).__init__()\n",
    "        self.fc1 = nn.Linear(784,100) # MNIST 데이터셋이 28*28로 총 784개의 픽셀로 이루어져있기 때문에 784를 입력 크기로 넣음.\n",
    "        self.relu = nn.ReLU()\n",
    "        self.fc2 = nn.Linear(100,100)\n",
    "        self.fc3 = nn.Linear(100,10)\n",
    "\n",
    "    def forward(self, x):\n",
    "        x1 = self.fc1(x)\n",
    "        x2 = self.relu(x1)\n",
    "        x3 = self.fc2(x2)\n",
    "        x4 = self.relu(x3)\n",
    "        x5 = self.fc3(x4)\n",
    "\n",
    "        return x5"
   ]
  },
  {
   "cell_type": "markdown",
   "metadata": {},
   "source": [
    "# Dataset 정의  \n",
    "## MNIST Dataset을 사용하여 학습,검증을 합니다."
   ]
  },
  {
   "cell_type": "code",
   "execution_count": 4,
   "metadata": {},
   "outputs": [],
   "source": [
    "download_root = 'MNIST_data/'\n",
    "\n",
    "train_dataset = datasets.MNIST(root=download_root,\n",
    "                         train=True,\n",
    "                         transform=transforms.ToTensor(),\n",
    "                         download=True)\n",
    "                         \n",
    "test_dataset = datasets.MNIST(root=download_root,\n",
    "                         train=False,\n",
    "                         transform=transforms.ToTensor(),\n",
    "                         download=True)    "
   ]
  },
  {
   "cell_type": "code",
   "execution_count": 5,
   "metadata": {},
   "outputs": [
    {
     "name": "stdout",
     "output_type": "stream",
     "text": [
      "학습 데이터 수 :  60000\n",
      "테스트 데이터 수 : 10000\n"
     ]
    }
   ],
   "source": [
    "print('학습 데이터 수 : ',len(train_dataset))\n",
    "print('테스트 데이터 수 :',len(test_dataset))"
   ]
  },
  {
   "cell_type": "code",
   "execution_count": 6,
   "metadata": {},
   "outputs": [
    {
     "data": {
      "image/png": "[encoded data removed]",
      "text/plain": [
       "<Figure size 200x200 with 1 Axes>"
      ]
     },
     "metadata": {},
     "output_type": "display_data"
    },
    {
     "data": {
      "image/png": "[encoded data removed]",
      "text/plain": [
       "<Figure size 200x200 with 1 Axes>"
      ]
     },
     "metadata": {},
     "output_type": "display_data"
    },
    {
     "data": {
      "image/png": "[encoded data removed]",
      "text/plain": [
       "<Figure size 200x200 with 1 Axes>"
      ]
     },
     "metadata": {},
     "output_type": "display_data"
    },
    {
     "data": {
      "image/png": "[encoded data removed]",
      "text/plain": [
       "<Figure size 200x200 with 1 Axes>"
      ]
     },
     "metadata": {},
     "output_type": "display_data"
    },
    {
     "data": {
      "image/png": "[encoded data removed]",
      "text/plain": [
       "<Figure size 200x200 with 1 Axes>"
      ]
     },
     "metadata": {},
     "output_type": "display_data"
    }
   ],
   "source": [
    "\n",
    "for i in range(5):\n",
    "\n",
    "    image, label = train_dataset[i]\n",
    "\n",
    "    plt.figure(figsize=(2,2))\n",
    "    plt.imshow(image.squeeze().numpy(),'gray')\n",
    "    plt.title('label : %s' % label)\n",
    "    plt.show()"
   ]
  },
  {
   "cell_type": "markdown",
   "metadata": {},
   "source": [
    "# Batch_size, Train, Test Dataloader 정의"
   ]
  },
  {
   "cell_type": "code",
   "execution_count": 7,
   "metadata": {},
   "outputs": [],
   "source": [
    "batch_size = 100\n",
    "train_loader = DataLoader(train_dataset, batch_size=batch_size, shuffle=True) \n",
    "test_loader = DataLoader(test_dataset, batch_size=batch_size, shuffle=True)"
   ]
  },
  {
   "cell_type": "markdown",
   "metadata": {},
   "source": [
    "# 하이퍼 파라미터 정의"
   ]
  },
  {
   "cell_type": "markdown",
   "metadata": {},
   "source": [
    "![image](https://user-images.githubusercontent.com/63439911/200167296-d804d2f3-1b16-40df-ac1b-191afb16d1e0.png)"
   ]
  },
  {
   "cell_type": "code",
   "execution_count": 8,
   "metadata": {},
   "outputs": [],
   "source": [
    "model = Net()\n",
    "loss_function = nn.CrossEntropyLoss() # 실제 정답과 예측값의 차이를 수치화해주는 함수.\n",
    "learning_rate = 0.001 # AdamW:0.001, SGD:0.1, Adam:0.001\n",
    "optimizer = optim.Adam(model.parameters(), lr=learning_rate) # loss_function을 최소화 하는 모델의 파라미터를 찾는 방법.\n",
    "epochs = 10"
   ]
  },
  {
   "cell_type": "code",
   "execution_count": 9,
   "metadata": {},
   "outputs": [],
   "source": [
    "from mlflow.models.signature import ModelSignature\n",
    "from mlflow.types.schema import Schema, TensorSpec\n",
    "\n",
    "input_example = np.array([[0.0000, 0.0000, 0.0000, 0.0000, 0.0000, 0.0000, 0.0000, 0.0000, 0.0000,\n",
    "         0.0000, 0.0000, 0.0000, 0.0000, 0.0000, 0.0000, 0.0000, 0.0000, 0.0000,\n",
    "         0.0000, 0.0000, 0.0000, 0.0000, 0.0000, 0.0000, 0.0000, 0.0000, 0.0000,\n",
    "         0.0000, 0.0000, 0.0000, 0.0000, 0.0000, 0.0000, 0.0000, 0.0000, 0.0000,\n",
    "         0.0000, 0.0000, 0.0000, 0.0000, 0.0000, 0.0000, 0.0000, 0.0000, 0.0000,\n",
    "         0.0000, 0.0000, 0.0000, 0.0000, 0.0000, 0.0000, 0.0000, 0.0000, 0.0000,\n",
    "         0.0000, 0.0000, 0.0000, 0.0000, 0.0000, 0.0000, 0.0000, 0.0000, 0.0000,\n",
    "         0.0000, 0.0000, 0.0000, 0.0000, 0.0000, 0.0000, 0.0000, 0.0000, 0.0000,\n",
    "         0.0000, 0.0000, 0.0000, 0.0000, 0.0000, 0.0000, 0.0000, 0.0000, 0.0000,\n",
    "         0.0000, 0.0000, 0.0000, 0.0000, 0.0000, 0.0000, 0.0000, 0.0000, 0.0000,\n",
    "         0.0000, 0.0000, 0.0000, 0.0000, 0.0000, 0.0000, 0.0000, 0.0000, 0.0000,\n",
    "         0.0000, 0.0000, 0.0000, 0.0000, 0.0000, 0.0000, 0.0000, 0.0000, 0.0000,\n",
    "         0.0000, 0.0000, 0.0000, 0.0000, 0.0000, 0.0000, 0.0000, 0.0000, 0.0000,\n",
    "         0.0000, 0.0000, 0.0000, 0.0000, 0.0000, 0.0000, 0.0000, 0.0000, 0.0000,\n",
    "         0.0000, 0.0000, 0.0000, 0.0000, 0.0000, 0.0000, 0.0000, 0.0000, 0.0000,\n",
    "         0.0000, 0.0000, 0.0000, 0.0000, 0.0000, 0.0000, 0.0000, 0.0000, 0.0000,\n",
    "         0.0000, 0.0000, 0.0000, 0.0000, 0.0000, 0.0000, 0.0000, 0.0000, 0.0118,\n",
    "         0.0706, 0.0706, 0.0706, 0.4941, 0.5333, 0.6863, 0.1020, 0.6510, 1.0000,\n",
    "         0.9686, 0.4980, 0.0000, 0.0000, 0.0000, 0.0000, 0.0000, 0.0000, 0.0000,\n",
    "         0.0000, 0.0000, 0.0000, 0.0000, 0.0000, 0.1176, 0.1412, 0.3686, 0.6039,\n",
    "         0.6667, 0.9922, 0.9922, 0.9922, 0.9922, 0.9922, 0.8824, 0.6745, 0.9922,\n",
    "         0.9490, 0.7647, 0.2510, 0.0000, 0.0000, 0.0000, 0.0000, 0.0000, 0.0000,\n",
    "         0.0000, 0.0000, 0.0000, 0.0000, 0.0000, 0.1922, 0.9333, 0.9922, 0.9922,\n",
    "         0.9922, 0.9922, 0.9922, 0.9922, 0.9922, 0.9922, 0.9843, 0.3647, 0.3216,\n",
    "         0.3216, 0.2196, 0.1529, 0.0000, 0.0000, 0.0000, 0.0000, 0.0000, 0.0000,\n",
    "         0.0000, 0.0000, 0.0000, 0.0000, 0.0000, 0.0000, 0.0706, 0.8588, 0.9922,\n",
    "         0.9922, 0.9922, 0.9922, 0.9922, 0.7765, 0.7137, 0.9686, 0.9451, 0.0000,\n",
    "         0.0000, 0.0000, 0.0000, 0.0000, 0.0000, 0.0000, 0.0000, 0.0000, 0.0000,\n",
    "         0.0000, 0.0000, 0.0000, 0.0000, 0.0000, 0.0000, 0.0000, 0.0000, 0.3137,\n",
    "         0.6118, 0.4196, 0.9922, 0.9922, 0.8039, 0.0431, 0.0000, 0.1686, 0.6039,\n",
    "         0.0000, 0.0000, 0.0000, 0.0000, 0.0000, 0.0000, 0.0000, 0.0000, 0.0000,\n",
    "         0.0000, 0.0000, 0.0000, 0.0000, 0.0000, 0.0000, 0.0000, 0.0000, 0.0000,\n",
    "         0.0000, 0.0549, 0.0039, 0.6039, 0.9922, 0.3529, 0.0000, 0.0000, 0.0000,\n",
    "         0.0000, 0.0000, 0.0000, 0.0000, 0.0000, 0.0000, 0.0000, 0.0000, 0.0000,\n",
    "         0.0000, 0.0000, 0.0000, 0.0000, 0.0000, 0.0000, 0.0000, 0.0000, 0.0000,\n",
    "         0.0000, 0.0000, 0.0000, 0.0000, 0.5451, 0.9922, 0.7451, 0.0078, 0.0000,\n",
    "         0.0000, 0.0000, 0.0000, 0.0000, 0.0000, 0.0000, 0.0000, 0.0000, 0.0000,\n",
    "         0.0000, 0.0000, 0.0000, 0.0000, 0.0000, 0.0000, 0.0000, 0.0000, 0.0000,\n",
    "         0.0000, 0.0000, 0.0000, 0.0000, 0.0000, 0.0431, 0.7451, 0.9922, 0.2745,\n",
    "         0.0000, 0.0000, 0.0000, 0.0000, 0.0000, 0.0000, 0.0000, 0.0000, 0.0000,\n",
    "         0.0000, 0.0000, 0.0000, 0.0000, 0.0000, 0.0000, 0.0000, 0.0000, 0.0000,\n",
    "         0.0000, 0.0000, 0.0000, 0.0000, 0.0000, 0.0000, 0.0000, 0.1373, 0.9451,\n",
    "         0.8824, 0.6275, 0.4235, 0.0039, 0.0000, 0.0000, 0.0000, 0.0000, 0.0000,\n",
    "         0.0000, 0.0000, 0.0000, 0.0000, 0.0000, 0.0000, 0.0000, 0.0000, 0.0000,\n",
    "         0.0000, 0.0000, 0.0000, 0.0000, 0.0000, 0.0000, 0.0000, 0.0000, 0.0000,\n",
    "         0.3176, 0.9412, 0.9922, 0.9922, 0.4667, 0.0980, 0.0000, 0.0000, 0.0000,\n",
    "         0.0000, 0.0000, 0.0000, 0.0000, 0.0000, 0.0000, 0.0000, 0.0000, 0.0000,\n",
    "         0.0000, 0.0000, 0.0000, 0.0000, 0.0000, 0.0000, 0.0000, 0.0000, 0.0000,\n",
    "         0.0000, 0.0000, 0.1765, 0.7294, 0.9922, 0.9922, 0.5882, 0.1059, 0.0000,\n",
    "         0.0000, 0.0000, 0.0000, 0.0000, 0.0000, 0.0000, 0.0000, 0.0000, 0.0000,\n",
    "         0.0000, 0.0000, 0.0000, 0.0000, 0.0000, 0.0000, 0.0000, 0.0000, 0.0000,\n",
    "         0.0000, 0.0000, 0.0000, 0.0000, 0.0627, 0.3647, 0.9882, 0.9922, 0.7333,\n",
    "         0.0000, 0.0000, 0.0000, 0.0000, 0.0000, 0.0000, 0.0000, 0.0000, 0.0000,\n",
    "         0.0000, 0.0000, 0.0000, 0.0000, 0.0000, 0.0000, 0.0000, 0.0000, 0.0000,\n",
    "         0.0000, 0.0000, 0.0000, 0.0000, 0.0000, 0.0000, 0.0000, 0.9765, 0.9922,\n",
    "         0.9765, 0.2510, 0.0000, 0.0000, 0.0000, 0.0000, 0.0000, 0.0000, 0.0000,\n",
    "         0.0000, 0.0000, 0.0000, 0.0000, 0.0000, 0.0000, 0.0000, 0.0000, 0.0000,\n",
    "         0.0000, 0.0000, 0.0000, 0.0000, 0.0000, 0.1804, 0.5098, 0.7176, 0.9922,\n",
    "         0.9922, 0.8118, 0.0078, 0.0000, 0.0000, 0.0000, 0.0000, 0.0000, 0.0000,\n",
    "         0.0000, 0.0000, 0.0000, 0.0000, 0.0000, 0.0000, 0.0000, 0.0000, 0.0000,\n",
    "         0.0000, 0.0000, 0.0000, 0.0000, 0.1529, 0.5804, 0.8980, 0.9922, 0.9922,\n",
    "         0.9922, 0.9804, 0.7137, 0.0000, 0.0000, 0.0000, 0.0000, 0.0000, 0.0000,\n",
    "         0.0000, 0.0000, 0.0000, 0.0000, 0.0000, 0.0000, 0.0000, 0.0000, 0.0000,\n",
    "         0.0000, 0.0000, 0.0000, 0.0941, 0.4471, 0.8667, 0.9922, 0.9922, 0.9922,\n",
    "         0.9922, 0.7882, 0.3059, 0.0000, 0.0000, 0.0000, 0.0000, 0.0000, 0.0000,\n",
    "         0.0000, 0.0000, 0.0000, 0.0000, 0.0000, 0.0000, 0.0000, 0.0000, 0.0000,\n",
    "         0.0000, 0.0000, 0.0902, 0.2588, 0.8353, 0.9922, 0.9922, 0.9922, 0.9922,\n",
    "         0.7765, 0.3176, 0.0078, 0.0000, 0.0000, 0.0000, 0.0000, 0.0000, 0.0000,\n",
    "         0.0000, 0.0000, 0.0000, 0.0000, 0.0000, 0.0000, 0.0000, 0.0000, 0.0000,\n",
    "         0.0000, 0.0706, 0.6706, 0.8588, 0.9922, 0.9922, 0.9922, 0.9922, 0.7647,\n",
    "         0.3137, 0.0353, 0.0000, 0.0000, 0.0000, 0.0000, 0.0000, 0.0000, 0.0000,\n",
    "         0.0000, 0.0000, 0.0000, 0.0000, 0.0000, 0.0000, 0.0000, 0.0000, 0.0000,\n",
    "         0.2157, 0.6745, 0.8863, 0.9922, 0.9922, 0.9922, 0.9922, 0.9569, 0.5216,\n",
    "         0.0431, 0.0000, 0.0000, 0.0000, 0.0000, 0.0000, 0.0000, 0.0000, 0.0000,\n",
    "         0.0000, 0.0000, 0.0000, 0.0000, 0.0000, 0.0000, 0.0000, 0.0000, 0.0000,\n",
    "         0.0000, 0.5333, 0.9922, 0.9922, 0.9922, 0.8314, 0.5294, 0.5176, 0.0627,\n",
    "         0.0000, 0.0000, 0.0000, 0.0000, 0.0000, 0.0000, 0.0000, 0.0000, 0.0000,\n",
    "         0.0000, 0.0000, 0.0000, 0.0000, 0.0000, 0.0000, 0.0000, 0.0000, 0.0000,\n",
    "         0.0000, 0.0000, 0.0000, 0.0000, 0.0000, 0.0000, 0.0000, 0.0000, 0.0000,\n",
    "         0.0000, 0.0000, 0.0000, 0.0000, 0.0000, 0.0000, 0.0000, 0.0000, 0.0000,\n",
    "         0.0000, 0.0000, 0.0000, 0.0000, 0.0000, 0.0000, 0.0000, 0.0000, 0.0000,\n",
    "         0.0000, 0.0000, 0.0000, 0.0000, 0.0000, 0.0000, 0.0000, 0.0000, 0.0000,\n",
    "         0.0000, 0.0000, 0.0000, 0.0000, 0.0000, 0.0000, 0.0000, 0.0000, 0.0000,\n",
    "         0.0000, 0.0000, 0.0000, 0.0000, 0.0000, 0.0000, 0.0000, 0.0000, 0.0000,\n",
    "         0.0000, 0.0000, 0.0000, 0.0000, 0.0000, 0.0000, 0.0000, 0.0000, 0.0000,\n",
    "         0.0000, 0.0000, 0.0000, 0.0000, 0.0000, 0.0000, 0.0000, 0.0000, 0.0000,\n",
    "         0.0000, 0.0000, 0.0000, 0.0000, 0.0000, 0.0000, 0.0000, 0.0000, 0.0000,\n",
    "         0.0000]],dtype=np.float32)\n",
    "\n",
    "input_schema = Schema([\n",
    "    TensorSpec(np.dtype(np.float32),(1,784))\n",
    "])\n",
    "\n",
    "output_schema = Schema([\n",
    "    TensorSpec(np.dtype(np.float32),(-1,10))\n",
    "])\n",
    "\n",
    "signature = ModelSignature(inputs=input_schema,outputs=output_schema)"
   ]
  },
  {
   "cell_type": "markdown",
   "metadata": {},
   "source": [
    "# MLflow를 활용하여 학습진행\n",
    "\n",
    "![image](https://user-images.githubusercontent.com/63439911/200745460-99a6268d-cd4e-4334-ab10-2c0de356c4c5.png)\n"
   ]
  },
  {
   "cell_type": "code",
   "execution_count": 10,
   "metadata": {},
   "outputs": [],
   "source": [
    "model_name = 'basic_model'"
   ]
  },
  {
   "cell_type": "code",
   "execution_count": 11,
   "metadata": {},
   "outputs": [
    {
     "name": "stdout",
     "output_type": "stream",
     "text": [
      "epoch: 0/10 train_loss: 0.39222 train_accuracy: 0.89202 val_loss: 0.20252 val_accuracy: 0.9416\n",
      "===========> Save Model(Epoch: 0, Accuracy: 0.9416)\n",
      "--------------------------------------------------------------------------------------------\n",
      "epoch: 1/10 train_loss: 0.1737 train_accuracy: 0.94887 val_loss: 0.15093 val_accuracy: 0.9542\n",
      "===========> Save Model(Epoch: 1, Accuracy: 0.9542)\n",
      "--------------------------------------------------------------------------------------------\n",
      "epoch: 2/10 train_loss: 0.12451 train_accuracy: 0.96255 val_loss: 0.1124 val_accuracy: 0.9652\n",
      "===========> Save Model(Epoch: 2, Accuracy: 0.9652)\n",
      "--------------------------------------------------------------------------------------------\n",
      "epoch: 3/10 train_loss: 0.094302 train_accuracy: 0.97123 val_loss: 0.10099 val_accuracy: 0.9676\n",
      "===========> Save Model(Epoch: 3, Accuracy: 0.9676)\n",
      "--------------------------------------------------------------------------------------------\n",
      "epoch: 4/10 train_loss: 0.074172 train_accuracy: 0.97753 val_loss: 0.090901 val_accuracy: 0.9716\n",
      "===========> Save Model(Epoch: 4, Accuracy: 0.9716)\n",
      "--------------------------------------------------------------------------------------------\n",
      "epoch: 5/10 train_loss: 0.059256 train_accuracy: 0.9813 val_loss: 0.089962 val_accuracy: 0.9711\n",
      "--------------------------------------------------------------------------------------------\n",
      "epoch: 6/10 train_loss: 0.049626 train_accuracy: 0.98455 val_loss: 0.085164 val_accuracy: 0.9761\n",
      "===========> Save Model(Epoch: 6, Accuracy: 0.9761)\n",
      "--------------------------------------------------------------------------------------------\n",
      "epoch: 7/10 train_loss: 0.043037 train_accuracy: 0.98642 val_loss: 0.083676 val_accuracy: 0.9746\n",
      "--------------------------------------------------------------------------------------------\n",
      "epoch: 8/10 train_loss: 0.033542 train_accuracy: 0.9892 val_loss: 0.088051 val_accuracy: 0.9749\n",
      "--------------------------------------------------------------------------------------------\n",
      "epoch: 9/10 train_loss: 0.030467 train_accuracy: 0.98985 val_loss: 0.087599 val_accuracy: 0.977\n",
      "===========> Save Model(Epoch: 9, Accuracy: 0.977)\n",
      "--------------------------------------------------------------------------------------------\n"
     ]
    },
    {
     "name": "stderr",
     "output_type": "stream",
     "text": [
      "Registered model 'basic_model' already exists. Creating a new version of this model...\n",
      "2022/11/18 19:33:16 INFO mlflow.tracking._model_registry.client: Waiting up to 300 seconds for model version to finish creation.                     Model name: basic_model, version 4\n"
     ]
    },
    {
     "name": "stdout",
     "output_type": "stream",
     "text": [
      "best model saved to mlflow server\n"
     ]
    },
    {
     "name": "stderr",
     "output_type": "stream",
     "text": [
      "Created version '4' of model 'basic_model'.\n"
     ]
    }
   ],
   "source": [
    "warnings.filterwarnings(action='ignore')\n",
    "experiment_name = '혼돈의 AIP' # 실험명, 실험관리를 용이하게 해줍니다. \n",
    "\n",
    "\n",
    "if not mlflow.get_experiment_by_name(experiment_name): \n",
    "  mlflow.create_experiment(name=experiment_name)\n",
    "experiment = mlflow.get_experiment_by_name(experiment_name)\n",
    "\n",
    "mlflow.set_tracking_uri('http://127.0.0.1:5000') # 로컬 서버에 실행을 기록하기 위해 함수 호출\n",
    "\n",
    "\n",
    "best_accuracy = 0\n",
    "model.zero_grad()\n",
    "\n",
    "with mlflow.start_run(experiment_id=experiment.experiment_id,run_name=\"boom\") as run:\n",
    "  for epoch in range(epochs):\n",
    "    \n",
    "    model.train() # 학습\n",
    "    train_accuracy = 0\n",
    "    train_loss = 0\n",
    "\n",
    "    for images, labels in train_loader:\n",
    "      images = images.reshape(batch_size,784)\n",
    "      image = model(images)\n",
    "      loss = loss_function(image,labels)\n",
    "\n",
    "      optimizer.zero_grad()\n",
    "      loss.backward()\n",
    "      optimizer.step()\n",
    "\n",
    "      prediction = torch.argmax(image,1)\n",
    "      correct = (prediction == labels)\n",
    "      train_accuracy+= correct.sum().item() / len(train_dataset)\n",
    "      train_loss += loss.item() / len(train_loader)\n",
    "\n",
    "    model.eval() # 평가\n",
    "    val_accuracy = 0\n",
    "    val_loss = 0\n",
    "\n",
    "    for images,labels in test_loader:\n",
    "      images = images.reshape(batch_size,784)\n",
    "      image = model(images)\n",
    "      loss = loss_function(image,labels)\n",
    "      \n",
    "      correct = (torch.argmax(image,1) == labels)\n",
    "      val_accuracy += correct.sum().item() / len(test_dataset)\n",
    "      val_loss += loss.item() / len(test_loader)\n",
    "    \n",
    "    print(f'epoch: {epoch}/{epochs} train_loss: {train_loss:.5} train_accuracy: {train_accuracy:.5} val_loss: {val_loss:.5} val_accuracy: {val_accuracy:.5}')\n",
    "\n",
    "    if best_accuracy < val_accuracy: # 성능이 가장 좋은 모델로 갱신\n",
    "      best_accuracy = val_accuracy\n",
    "      torch.save(model.state_dict(),'best_model.pt')\n",
    "      best_model = copy.deepcopy(model)\n",
    "      print(f\"===========> Save Model(Epoch: {epoch}, Accuracy: {best_accuracy:.5})\")\n",
    "      \n",
    "    mlflow.log_param('learning-rate',learning_rate) # mlflow.log_param 을 사용하여 MLflow에 파라미터들을 기록할 수 있습니다.\n",
    "    mlflow.log_param('epoch',epochs)\n",
    "    mlflow.log_param('batch_size',batch_size)\n",
    "    mlflow.log_param('seed',seed)\n",
    "    mlflow.log_param('optimizer',optimizer)\n",
    "    mlflow.log_param('loss_function',loss_function)\n",
    "\n",
    "    mlflow.log_metric('train_accuracy',train_accuracy) # mlflow.log_metric을 사용하여 MLflow에 성능평가를 위한 metric을 기록할 수 있습니다.\n",
    "    mlflow.log_metric('train_loss',train_loss)\n",
    "    mlflow.log_metric('valid_accuracy',val_accuracy)\n",
    "    mlflow.log_metric('valid_loss',val_loss)\n",
    "\n",
    "    print(\"--------------------------------------------------------------------------------------------\")\n",
    "  mlflow.pytorch.log_model(best_model,'best_model',signature=signature,input_example=input_example,registered_model_name=model_name) # mlflow.log_model을 사용하여 모델을 mlflow에 저장할 수 있습니다.\n",
    "print('best model saved to mlflow server')\n",
    "mlflow.end_run()"
   ]
  },
  {
   "cell_type": "markdown",
   "metadata": {},
   "source": [
    "# Model Registry\n",
    "## Model Registry에서 특정 run_id를 가져오기"
   ]
  },
  {
   "cell_type": "code",
   "execution_count": 12,
   "metadata": {},
   "outputs": [],
   "source": [
    "from mlflow import MlflowClient\n",
    "from pprint import pprint\n",
    "import json\n",
    "from collections import OrderedDict\n",
    "\n",
    "client = MlflowClient()\n",
    "\n",
    "target = str(1)\n",
    "\n",
    "file_data = []\n",
    "\n",
    "for rm in client.search_model_versions(f\"name='{model_name}'\"):\n",
    "    rm = dict(rm)\n",
    "    file_data.append(rm)\n",
    "\n",
    "file_data = sorted(file_data,key=lambda x: int(x['version']))\n",
    "\n",
    "with open('model_output.json','w') as make_file:\n",
    "    json.dump(file_data,make_file,indent='\\t')\n",
    "\n",
    "\n",
    "\n"
   ]
  },
  {
   "cell_type": "markdown",
   "metadata": {},
   "source": [
    "## Model Registry에 등록된 모델 정보 불러오기"
   ]
  },
  {
   "cell_type": "code",
   "execution_count": 13,
   "metadata": {},
   "outputs": [
    {
     "name": "stdout",
     "output_type": "stream",
     "text": [
      "{   'creation_timestamp': 1668684965803,\n",
      "    'description': '',\n",
      "    'last_updated_timestamp': 1668767596986,\n",
      "    'latest_versions': [   <ModelVersion: creation_timestamp=1668767596986, current_stage='None', description='', last_updated_timestamp=1668767596986, name='basic_model', run_id='fdfb7dcb8a484e5594b79afd4a53dc1e', run_link='', source='/Users/gimgihun/mlflow_project_practice/artifacts/1/fdfb7dcb8a484e5594b79afd4a53dc1e/artifacts/best_model', status='READY', status_message='', tags={}, user_id='', version='4'>],\n",
      "    'name': 'basic_model',\n",
      "    'tags': {}}\n"
     ]
    }
   ],
   "source": [
    "for rm in client.search_registered_models():\n",
    "    pprint(dict(rm),indent=4)"
   ]
  },
  {
   "cell_type": "code",
   "execution_count": 14,
   "metadata": {},
   "outputs": [
    {
     "name": "stdout",
     "output_type": "stream",
     "text": [
      "1\n",
      "2\n",
      "3\n",
      "4\n"
     ]
    }
   ],
   "source": [
    "with open('model_output.json','r') as f:\n",
    "    json_data = json.load(f)\n",
    "\n",
    "for model_info in json_data:\n",
    "    print(model_info['version'])"
   ]
  },
  {
   "cell_type": "markdown",
   "metadata": {},
   "source": [
    "# 결과 파일로부터 데이터 불러오기"
   ]
  },
  {
   "cell_type": "code",
   "execution_count": 23,
   "metadata": {},
   "outputs": [
    {
     "name": "stdout",
     "output_type": "stream",
     "text": [
      "[\n",
      "\t{\n",
      "\t\t\"creation_timestamp\": 1668684965813,\n",
      "\t\t\"current_stage\": \"None\",\n",
      "\t\t\"description\": \"\",\n",
      "\t\t\"last_updated_timestamp\": 1668693396124,\n",
      "\t\t\"name\": \"basic_model\",\n",
      "\t\t\"run_id\": \"8fb2c50bb98746ed9707f3bb43aab234\",\n",
      "\t\t\"run_link\": \"\",\n",
      "\t\t\"source\": \"/Users/gimgihun/mlflow_project_practice/artifacts/1/8fb2c50bb98746ed9707f3bb43aab234/artifacts/best_model\",\n",
      "\t\t\"status\": \"READY\",\n",
      "\t\t\"status_message\": \"\",\n",
      "\t\t\"tags\": {},\n",
      "\t\t\"user_id\": \"\",\n",
      "\t\t\"version\": \"1\"\n",
      "\t},\n",
      "\t{\n",
      "\t\t\"creation_timestamp\": 1668685007333,\n",
      "\t\t\"current_stage\": \"None\",\n",
      "\t\t\"description\": \"\",\n",
      "\t\t\"last_updated_timestamp\": 1668693404586,\n",
      "\t\t\"name\": \"basic_model\",\n",
      "\t\t\"run_id\": \"009bcfbda0c844ea97e2b6d141d3dabb\",\n",
      "\t\t\"run_link\": \"\",\n",
      "\t\t\"source\": \"/Users/gimgihun/mlflow_project_practice/artifacts/1/009bcfbda0c844ea97e2b6d141d3dabb/artifacts/best_model\",\n",
      "\t\t\"status\": \"READY\",\n",
      "\t\t\"status_message\": \"\",\n",
      "\t\t\"tags\": {},\n",
      "\t\t\"user_id\": \"\",\n",
      "\t\t\"version\": \"2\"\n",
      "\t},\n",
      "\t{\n",
      "\t\t\"creation_timestamp\": 1668686242730,\n",
      "\t\t\"current_stage\": \"None\",\n",
      "\t\t\"description\": \"\",\n",
      "\t\t\"last_updated_timestamp\": 1668693412631,\n",
      "\t\t\"name\": \"basic_model\",\n",
      "\t\t\"run_id\": \"325b157b904d4173b109625253cec6e4\",\n",
      "\t\t\"run_link\": \"\",\n",
      "\t\t\"source\": \"/Users/gimgihun/mlflow_project_practice/artifacts/1/325b157b904d4173b109625253cec6e4/artifacts/best_model\",\n",
      "\t\t\"status\": \"READY\",\n",
      "\t\t\"status_message\": \"\",\n",
      "\t\t\"tags\": {},\n",
      "\t\t\"user_id\": \"\",\n",
      "\t\t\"version\": \"3\"\n",
      "\t},\n",
      "\t{\n",
      "\t\t\"creation_timestamp\": 1668767596986,\n",
      "\t\t\"current_stage\": \"None\",\n",
      "\t\t\"description\": \"\",\n",
      "\t\t\"last_updated_timestamp\": 1668767596986,\n",
      "\t\t\"name\": \"basic_model\",\n",
      "\t\t\"run_id\": \"fdfb7dcb8a484e5594b79afd4a53dc1e\",\n",
      "\t\t\"run_link\": \"\",\n",
      "\t\t\"source\": \"/Users/gimgihun/mlflow_project_practice/artifacts/1/fdfb7dcb8a484e5594b79afd4a53dc1e/artifacts/best_model\",\n",
      "\t\t\"status\": \"READY\",\n",
      "\t\t\"status_message\": \"\",\n",
      "\t\t\"tags\": {},\n",
      "\t\t\"user_id\": \"\",\n",
      "\t\t\"version\": \"4\"\n",
      "\t}\n",
      "]\n"
     ]
    }
   ],
   "source": [
    "with open('model_output.json','r') as f:\n",
    "    model_data = json.load(f)\n",
    "print(json.dumps(json_data,indent='\\t'))"
   ]
  },
  {
   "cell_type": "markdown",
   "metadata": {},
   "source": [
    "## Stage 변경"
   ]
  },
  {
   "cell_type": "code",
   "execution_count": 30,
   "metadata": {},
   "outputs": [
    {
     "data": {
      "text/plain": [
       "<ModelVersion: creation_timestamp=1668686242730, current_stage='None', description='', last_updated_timestamp=1668774275034, name='basic_model', run_id='325b157b904d4173b109625253cec6e4', run_link='', source='/Users/gimgihun/mlflow_project_practice/artifacts/1/325b157b904d4173b109625253cec6e4/artifacts/best_model', status='READY', status_message='', tags={}, user_id='', version='3'>"
      ]
     },
     "execution_count": 30,
     "metadata": {},
     "output_type": "execute_result"
    }
   ],
   "source": [
    "client.transition_model_version_stage(\n",
    "    name=model_name,\n",
    "    version=3,\n",
    "    stage='None' #\n",
    ")"
   ]
  },
  {
   "cell_type": "code",
   "execution_count": 16,
   "metadata": {},
   "outputs": [],
   "source": [
    "import os\n",
    "import json\n",
    "import bentoml\n",
    "import numpy as np\n",
    "import pandas as pd\n",
    "from torch import cuda"
   ]
  },
  {
   "cell_type": "code",
   "execution_count": 17,
   "metadata": {},
   "outputs": [
    {
     "data": {
      "text/plain": [
       "Model(tag=\"mnist_clf:nihae5thfssgzzri\", path=\"/Users/gimgihun/bentoml/models/mnist_clf/nihae5thfssgzzri/\")"
      ]
     },
     "execution_count": 17,
     "metadata": {},
     "output_type": "execute_result"
    }
   ],
   "source": [
    "MLFLOW_PATH = './model_mlflow'\n",
    "\n",
    "if not os.path.isdir(MLFLOW_PATH):\n",
    "  mlflow.pytorch.save_model(model, MLFLOW_PATH) # mlflow 모델 로컬 디렉토리에 저장\n",
    "\n",
    "bentoml.mlflow.import_model(\"mnist_clf\", model_uri='./model_mlflow') # mlflow로 저장한 모델을 bentoml format에 맞추어 가져옴"
   ]
  },
  {
   "cell_type": "markdown",
   "metadata": {},
   "source": [
    "# Inference"
   ]
  },
  {
   "cell_type": "code",
   "execution_count": 18,
   "metadata": {},
   "outputs": [
    {
     "data": {
      "text/plain": [
       "3"
      ]
     },
     "execution_count": 18,
     "metadata": {},
     "output_type": "execute_result"
    }
   ],
   "source": [
    "# mnist 테스트 데이터 가져오기\n",
    "with open('./test_input.json', 'r') as f:\n",
    "  test_input_arr = np.array(json.load(f), dtype=np.float32)\n",
    "\n",
    "len(test_input_arr) # test 데이터 개수"
   ]
  },
  {
   "cell_type": "code",
   "execution_count": 19,
   "metadata": {},
   "outputs": [
    {
     "data": {
      "image/png": "[encoded data removed]",
      "text/plain": [
       "<Figure size 1000x1000 with 3 Axes>"
      ]
     },
     "metadata": {},
     "output_type": "display_data"
    }
   ],
   "source": [
    "fig,axes = plt.subplots(len(test_input_arr),1,figsize=(10,10))\n",
    "for i in range(len(test_input_arr)):\n",
    "    img = test_input_arr[i]\n",
    "    img = img.reshape(28,28)\n",
    "    axes[i].imshow(img,'gray')\n",
    "\n",
    "plt.show()\n",
    "    "
   ]
  },
  {
   "cell_type": "code",
   "execution_count": 20,
   "metadata": {},
   "outputs": [
    {
     "name": "stderr",
     "output_type": "stream",
     "text": [
      "'Runner.init_local' is for debugging and testing only.\n"
     ]
    },
    {
     "name": "stdout",
     "output_type": "stream",
     "text": [
      "7\n",
      "2\n",
      "1\n"
     ]
    }
   ],
   "source": [
    "# API 테스트\n",
    "runner = bentoml.mlflow.get(\"mnist_clf:latest\").to_runner()\n",
    "runner.init_local()\n",
    "result = runner.predict.run(test_input_arr)\n",
    "\n",
    "for i in result:\n",
    "    print(np.argmax(i))"
   ]
  },
  {
   "cell_type": "code",
   "execution_count": 21,
   "metadata": {},
   "outputs": [
    {
     "name": "stdout",
     "output_type": "stream",
     "text": [
      "2022-11-18T19:33:19+0900 [INFO] [cli] Prometheus metrics for HTTP BentoServer from \"service:svc\" can be accessed at http://localhost:3000/metrics.\n",
      "2022-11-18T19:33:20+0900 [INFO] [cli] Starting development HTTP BentoServer from \"service:svc\" running on http://0.0.0.0:3000 (Press CTRL+C to quit)\n",
      "2022-11-18 19:33:21 circus[2317] [INFO] Loading the plugin...\n",
      "2022-11-18 19:33:21 circus[2317] [INFO] Endpoint: 'tcp://127.0.0.1:49433'\n",
      "2022-11-18 19:33:21 circus[2317] [INFO] Pub/sub: 'tcp://127.0.0.1:49434'\n",
      "2022-11-18T19:33:21+0900 [INFO] [observer] Watching directories: ['/Users/gimgihun/mlflow_project_practice', '/Users/gimgihun/bentoml/models']\n",
      "^C\n"
     ]
    }
   ],
   "source": [
    "!bentoml serve service:svc --reload"
   ]
  },
  {
   "cell_type": "code",
   "execution_count": null,
   "metadata": {},
   "outputs": [],
   "source": []
  }
 ],
 "metadata": {
  "kernelspec": {
   "display_name": "Python 3.10.8 64-bit",
   "language": "python",
   "name": "python3"
  },
  "language_info": {
   "codemirror_mode": {
    "name": "ipython",
    "version": 3
   },
   "file_extension": ".py",
   "mimetype": "text/x-python",
   "name": "python",
   "nbconvert_exporter": "python",
   "pygments_lexer": "ipython3",
   "version": "3.10.8"
  },
  "orig_nbformat": 4,
  "vscode": {
   "interpreter": {
    "hash": "b0fa6594d8f4cbf19f97940f81e996739fb7646882a419484c72d19e05852a7e"
   }
  }
 },
 "nbformat": 4,
 "nbformat_minor": 2
}
